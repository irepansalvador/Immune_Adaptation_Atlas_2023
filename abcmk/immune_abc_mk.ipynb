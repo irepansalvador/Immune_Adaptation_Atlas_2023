{
 "cells": [
  {
   "cell_type": "markdown",
   "metadata": {},
   "source": [
    "Install julia dependencies"
   ]
  },
  {
   "cell_type": "code",
   "execution_count": null,
   "metadata": {},
   "outputs": [],
   "source": [
    "using Pkg"
   ]
  },
  {
   "cell_type": "code",
   "execution_count": null,
   "metadata": {},
   "outputs": [],
   "source": [
    "Pkg.add(path=\"https://github.com/jmurga/MKtest.jl\")\n",
    "Pkg.add([\"CSV\", \"Unzip\", \"DataFrames\", \"StatsBase\", \"RCall\", \"JLD2\", \"Suppressor\",\"CondaPkg\"])"
   ]
  },
  {
   "cell_type": "code",
   "execution_count": null,
   "metadata": {
    "tags": []
   },
   "outputs": [],
   "source": [
    "using MKtest, CSV, Unzip, DataFrames, StatsBase, RCall, JLD2, Suppressor"
   ]
  },
  {
   "cell_type": "code",
   "execution_count": null,
   "metadata": {
    "tags": []
   },
   "outputs": [],
   "source": [
    "labstorage = \"/labstorage/jmurgamoreno/Immune_Adaptation_Atlas_2023/\"\n",
    "path = \"/home/jmurgamoreno/Immune_Adaptation_Atlas_2023/\";\n",
    "@rput labstorage;\n",
    "@rput path;"
   ]
  },
  {
   "cell_type": "code",
   "execution_count": null,
   "metadata": {},
   "outputs": [],
   "source": [
    "\"\"\"\n",
    "    Function to automatize ABC-MK analyses\n",
    "\"\"\"\n",
    "function cell_analysis(param;file,data_tgp,rates=nothing)\n",
    "\n",
    "    @show file\n",
    "    alpha,sfs,divergence = MKtest.parse_sfs(param,data=data_tgp,gene_list=file)\n",
    "\n",
    "    # Get cell name\n",
    "    cell_name = replace(split(file,\"/\")[end],\"_TOP_control.txt\"=>\"\")\n",
    "    cell_name = replace(cell_name,\"_TOP_case.txt\"=>\"\")\n",
    "\n",
    "    line_name = split(file,\"/\")[end-2]\n",
    "\n",
    "    if occursin(\"case\",file)\n",
    "        c_type = \"case\"\n",
    "    else\n",
    "        c_type = \"control\"\n",
    "    end\n",
    "\n",
    "    folder = replace(file,\".txt\" => \"\")\n",
    "    mkpath(folder)\n",
    "\n",
    "    out = @suppress begin\n",
    "        try\n",
    "            summstat = MKtest.summary_statistics(param,sfs,divergence,h5_file=rates,output_folder= folder,summstat_size=10^5);\n",
    "\n",
    "            posteriors = MKtest.ABCreg(output_folder=folder,S=length(param.dac),tol=0.025,rm_summaries=true);\n",
    "\n",
    "            out = MKtest.summary_abc(posteriors,stat=\"mode\");\n",
    "\n",
    "            insertcols!(out[1],1,:type=>c_type)\n",
    "            insertcols!(out[1],1,:cell=>cell_name)\n",
    "            insertcols!(out[1],1,:line=>line_name)\n",
    "\n",
    "            out[1]\n",
    "        catch\n",
    "            DataFrame()\n",
    "        end\n",
    "    end\n",
    "    return(out)\n",
    "end"
   ]
  },
  {
   "cell_type": "markdown",
   "metadata": {
    "tags": []
   },
   "source": [
    "Change paths as needed!"
   ]
  },
  {
   "cell_type": "markdown",
   "metadata": {},
   "source": [
    "# Estimating analytical rates"
   ]
  },
  {
   "cell_type": "code",
   "execution_count": null,
   "metadata": {},
   "outputs": [],
   "source": [
    "# Be sure you're using multiple threads to estimate the rates\n",
    "df = MKtest.rates(adap,gH=[200,2000],gL=[1,10],gam_dfe=[-2000,-200],gam_flanking=[-1000,-500],alpha=[0.0,0.9],iterations=10^5,output= labstorage * \"abcmk/rates_hpc.jld2\");"
   ]
  },
  {
   "cell_type": "markdown",
   "metadata": {
    "tags": []
   },
   "source": [
    "# Cell lines"
   ]
  },
  {
   "cell_type": "code",
   "execution_count": null,
   "metadata": {
    "tags": []
   },
   "outputs": [],
   "source": [
    "lines = readdir(labstorage * \"Developmental/ENS_FULL_genelists_wilcox\",join=true)\n",
    "@rput lines"
   ]
  },
  {
   "cell_type": "markdown",
   "metadata": {
    "jp-MarkdownHeadingCollapsed": true,
    "tags": []
   },
   "source": [
    "## Bootstrap cell lines genes"
   ]
  },
  {
   "cell_type": "code",
   "execution_count": null,
   "metadata": {
    "tags": []
   },
   "outputs": [],
   "source": [
    "genes = CSV.read(labstorage * \"annotations/MKdata_may2023.txt\",DataFrame,header=false);\n",
    "orthologs = CSV.read(labstorage * \"annotations/mammals_orthologs.txt\",DataFrame,header=true);\n",
    "\n",
    "rename!(orthologs,:mgPropSitesAdapt => :ids);"
   ]
  },
  {
   "cell_type": "code",
   "execution_count": null,
   "metadata": {
    "tags": []
   },
   "outputs": [],
   "source": [
    "param_boot = MKtest.bootstrap_parameters(factors=path*\"annotations/confounding_factors_orthologs.txt\",annotation=path*\"annotations/ensembl_gene_coords_v109.bed\")"
   ]
  },
  {
   "cell_type": "code",
   "execution_count": null,
   "metadata": {
    "tags": []
   },
   "outputs": [],
   "source": [
    "for l in lines\n",
    "\n",
    "    files = filter(x -> occursin(\"FULL_ENSEMBL.txt\",x) ,readdir(l,join=true))\n",
    "\n",
    "    for f ∈ files[1:2]\n",
    "        @show f\n",
    "\n",
    "        f_path,f_de = splitdir(f)\n",
    "\n",
    "        f_de = replace(f_de,\"_FULL_ENSEMBL\"=>\"\")\n",
    "        f_de = split(f_de,\".\")[1]\n",
    "\n",
    "        # Extracting the top 500 DE genes by cell line.\n",
    "        df = CSV.read(f,DataFrame,header=false)\n",
    "\n",
    "        # Get orthologs only\n",
    "        rename!(df,:Column1=>:ids)\n",
    "\n",
    "        df_orthologs = innerjoin(df,orthologs,on=:ids,order=:left)\n",
    "\n",
    "        top_de = first(df_orthologs,500)\n",
    "\n",
    "        tmp_path = f_path * \"/top_500_orthologs/\"\n",
    "        mkpath(tmp_path)\n",
    "\n",
    "        CSV.write(tmp_path * f_de * \".txt\",Tables.table(top_de[:,1]),header=false)\n",
    "\n",
    "        param_boot.data   = tmp_path * f_de * \".txt\"\n",
    "        param_boot.output = tmp_path * f_de\n",
    "        MKtest.bootstrap(param_boot)\n",
    "    end\n",
    "end"
   ]
  },
  {
   "cell_type": "markdown",
   "metadata": {
    "tags": []
   },
   "source": [
    "## ABC-MK"
   ]
  },
  {
   "cell_type": "code",
   "execution_count": null,
   "metadata": {},
   "outputs": [],
   "source": [
    "adap = MKtest.parameters(n=661,dac=[2,4,5,10,20,50,200,661],cutoff=[0.0,0.7]);"
   ]
  },
  {
   "cell_type": "code",
   "execution_count": null,
   "metadata": {},
   "outputs": [],
   "source": [
    "# Dictionaries to save results by cell lineage\n",
    "results_abc = Dict{String,DataFrame}()\n",
    "\n",
    "# Bootstrap files\n",
    "lines = filter(x-> isdir(x),readdir(labstorage * \"Developmental/ENS_FULL_genelists_wilcox\",join=true))\n",
    "\n",
    "for l in lines\n",
    "    @show l\n",
    "\n",
    "    files = filter(x -> occursin(\"case.txt\",x) || occursin(\"control.txt\",x),readdir(l*\"/top_500_orthologs/\",join=true))\n",
    "    abcmk = map(x-> cell_analysis(adap,file=x,data_tgp=labstorage * \"annotations/MKdata_may2023.txt\",rates=labstorage * \"abcmk/rates_hpc.jld2\"),files);\n",
    "    abcmk = vcat(abcmk...);\n",
    "    n = countlines.(files[occursin.(\"case\",files)]);\n",
    "    insertcols!(abcmk,:n=>0);\n",
    "    abcmk[abcmk.type.==\"case\",:n] .= n;\n",
    "\n",
    "    results_abc[split(l,\"/\")[end]]    = abcmk\n",
    "end\n",
    "results_abc = vcat(values(results_abc)...)"
   ]
  },
  {
   "cell_type": "code",
   "execution_count": null,
   "metadata": {},
   "outputs": [],
   "source": [
    "# Save dict results\n",
    "JLD2.jldopen(path * \"abmkc/results_immune_abc.jld2\", \"a+\") do file\n",
    "    file[\"cell_lines\"] = results_abc\n",
    "end"
   ]
  },
  {
   "cell_type": "markdown",
   "metadata": {},
   "source": [
    "## Get CI"
   ]
  },
  {
   "cell_type": "code",
   "execution_count": null,
   "metadata": {},
   "outputs": [],
   "source": [
    "# Dictionaries to save results by cell lineage\n",
    "results_ci = DataFrame[]\n",
    "\n",
    "# Bootstrap files\n",
    "lines = filter(x-> isdir(x),readdir(labstorage * \"Developmental/ENS_FULL_genelists_wilcox\",join=true))\n",
    "\n",
    "for l in lines\n",
    "    \n",
    "    files = filter(x -> isdir(x) .&& occursin(\"case\",x),readdir(l*\"/top_500_orthologs/\",join=true)) .* \"/out_1.0.post.gz\"\n",
    "    posteriors = CSV.read.(files,DataFrame,header=false)\n",
    "    \n",
    "    for i in eachindex(files)\n",
    "        cell_name, line_name = split(files[i],\"/\")[[end-1,end-3]]\n",
    "        cell_name = replace(cell_name,\"_case\"=>\"\")\n",
    "        tmp = MKtest.summary_abc([posteriors[i]],stat=\"mode\")\n",
    "        insertcols!(tmp[2],1,:cell=>cell_name)\n",
    "        insertcols!(tmp[2],1,:line=>line_name) \n",
    "        push!(results_ci,tmp[2])\n",
    "        \n",
    "    end\n",
    "end\n",
    "\n",
    "results_ci = vcat(results_ci...)\n",
    "\n",
    "CSV.write(path * \"Developmental/abcmk_ci.txt\",results_ci)"
   ]
  },
  {
   "cell_type": "markdown",
   "metadata": {
    "tags": []
   },
   "source": [
    "# Adult tissues"
   ]
  },
  {
   "cell_type": "markdown",
   "metadata": {
    "tags": []
   },
   "source": [
    "## Bootstrap"
   ]
  },
  {
   "cell_type": "code",
   "execution_count": null,
   "metadata": {},
   "outputs": [],
   "source": [
    "param_boot = MKtest.bootstrap_parameters(factors=labstorage*\"annotations/confounding_factors_orthologs.txt\",annotation=labstorage*\"annotations/ensembl_gene_coords_v109.bed\")"
   ]
  },
  {
   "cell_type": "code",
   "execution_count": null,
   "metadata": {},
   "outputs": [],
   "source": [
    "genes = CSV.read(labstorage * \"annotations/MKdata_may2023.txt\",DataFrame,header=false);\n",
    "orthologs = CSV.read(labstorage * \"annotations/mammals_orthologs.txt\",DataFrame,header=true);\n",
    "\n",
    "rename!(orthologs,:mgPropSitesAdapt => :ids)"
   ]
  },
  {
   "cell_type": "code",
   "execution_count": null,
   "metadata": {
    "tags": []
   },
   "outputs": [],
   "source": [
    "lines = readdir(labstorage * \"Adult/ENS_FULL_genelists_wilcox/\",join=true)"
   ]
  },
  {
   "cell_type": "code",
   "execution_count": null,
   "metadata": {
    "tags": []
   },
   "outputs": [],
   "source": [
    "for l in lines\n",
    "\n",
    "    files = filter(x -> occursin(\"FULL_ENSEMBL.txt\",x) ,readdir(l,join=true))\n",
    "\n",
    "    for f ∈ files\n",
    "        @show f\n",
    "\n",
    "        f_path,f_de = splitdir(f)\n",
    "\n",
    "        f_de = replace(f_de,\"_FULL_ENSEMBL\"=>\"\")\n",
    "        f_de = split(f_de,\".\")[1]\n",
    "\n",
    "        # Extracting the top 500 DE genes by cell line.\n",
    "        df = CSV.read(f,DataFrame,header=false)\n",
    "\n",
    "        # Get orthologs only\n",
    "        rename!(df,:Column1=>:ids)\n",
    "\n",
    "        df_orthologs = innerjoin(df,orthologs,on=:ids,order=:left)\n",
    "\n",
    "        top_de = first(df_orthologs,500)\n",
    "\n",
    "        tmp_path = f_path * \"/top_500_orthologs/\"\n",
    "        mkpath(tmp_path)\n",
    "\n",
    "        CSV.write(tmp_path * f_de * \".txt\",Tables.table(top_de[:,1]),header=false)\n",
    "\n",
    "        param_boot.data   = tmp_path * f_de * \".txt\"\n",
    "        param_boot.output = tmp_path * f_de\n",
    "        MKtest.bootstrap(param_boot)\n",
    "    end\n",
    "end"
   ]
  },
  {
   "cell_type": "markdown",
   "metadata": {
    "jp-MarkdownHeadingCollapsed": true,
    "tags": []
   },
   "source": [
    "## ABC-MK"
   ]
  },
  {
   "cell_type": "code",
   "execution_count": null,
   "metadata": {},
   "outputs": [],
   "source": [
    "adap = MKtest.parameters(n=661,dac=[2,4,5,10,20,50,200,661],cutoff=[0.0,0.7]);"
   ]
  },
  {
   "cell_type": "code",
   "execution_count": null,
   "metadata": {},
   "outputs": [],
   "source": [
    "# Dictionaries to save results by cell lineage\n",
    "results_abc = Dict{String,DataFrame}()\n",
    "lines = readdir(labstorage * \"Adult_tissues/ENS_FULL_genelists_wilcox/\",join=true)\n",
    "\n",
    "for l in lines\n",
    "    @show l\n",
    "    \n",
    "    files = filter(x -> occursin(\"case.txt\",x) || occursin(\"control.txt\",x),readdir(l * \"/top_500_orthologs/\",join=true))\n",
    "    \n",
    "    abcmk = map(x-> cell_analysis(adap,file=x,data_tgp=labstorage * \"/raw_data/annotations/MKdata_may2023.txt\",rates=labstorage * \"abcmk/rates_hpc.jld2\"),files)\n",
    "    \n",
    "    abcmk = vcat(abcmk...)\n",
    "\n",
    "    n = countlines.(files[occursin.(\"case\",files)])\n",
    "\n",
    "    insertcols!(abcmk,:n=>0)\n",
    "    abcmk[abcmk.type.==\"case\",:n] .= n\n",
    "\n",
    "    results_abc[i]    = abcmk\n",
    "end\n",
    "results_abc = vcat(values(results_abc)...)"
   ]
  },
  {
   "cell_type": "code",
   "execution_count": null,
   "metadata": {},
   "outputs": [],
   "source": [
    "# Save dict results\n",
    "JLD2.jldopen(path * \"results/results_immune_abc.jld2\", \"a+\") do file\n",
    "    file[\"adult_tissues\"] = results_abc\n",
    "end"
   ]
  },
  {
   "cell_type": "code",
   "execution_count": null,
   "metadata": {},
   "outputs": [],
   "source": [
    "# Dictionaries to save results by cell lineage\n",
    "results_ci = DataFrame[]\n",
    "\n",
    "# Bootstrap files\n",
    "lines = filter(x-> isdir(x),readdir(labstorage * \"Adult/ENS_FULL_genelists_wilcox\",join=true))\n",
    "\n",
    "for l in lines\n",
    "    \n",
    "    files = filter(x -> isdir(x) .&& occursin(\"case\",x),readdir(l*\"/top_500_orthologs/\",join=true)) .* \"/out_1.0.post.gz\"\n",
    "    posteriors = CSV.read.(files,DataFrame,header=false)\n",
    "    \n",
    "    for i in eachindex(files)\n",
    "        cell_name, line_name = split(files[i],\"/\")[[end-1,end-3]]\n",
    "        cell_name = replace(cell_name,\"_case\"=>\"\")\n",
    "        tmp = MKtest.summary_abc([posteriors[i]],stat=\"mode\")\n",
    "        insertcols!(tmp[2],1,:cell=>cell_name)\n",
    "        insertcols!(tmp[2],1,:line=>line_name) \n",
    "        push!(results_ci,tmp[2])\n",
    "    end\n",
    "end\n",
    "\n",
    "results_ci = vcat(results_ci...)\n",
    "CSV.write(path * \"Adult/abcmk_ci.txt\",results_ci)"
   ]
  },
  {
   "cell_type": "markdown",
   "metadata": {
    "tags": []
   },
   "source": [
    "# Macrophages activation"
   ]
  },
  {
   "cell_type": "code",
   "execution_count": null,
   "metadata": {
    "tags": []
   },
   "outputs": [],
   "source": [
    "activation_files =  filter(x-> .!isdir(x),readdir(labstorage * \"Macrophages/Output_lists/pval5x10-2_sorted\",join=true));"
   ]
  },
  {
   "cell_type": "markdown",
   "metadata": {
    "tags": []
   },
   "source": [
    "## Bootstrap macrophages"
   ]
  },
  {
   "cell_type": "code",
   "execution_count": null,
   "metadata": {},
   "outputs": [],
   "source": [
    "genes = CSV.read(labstorage * \"annotations/MKdata_may2023.txt\",DataFrame,header=false);\n",
    "orthologs = CSV.read(labstorage * \"annotations/mammals_orthologs.txt\",DataFrame,header=true);\n",
    "\n",
    "rename!(orthologs,:mgPropSitesAdapt => :ids)"
   ]
  },
  {
   "cell_type": "code",
   "execution_count": null,
   "metadata": {
    "tags": []
   },
   "outputs": [],
   "source": [
    "param_boot = MKtest.bootstrap_parameters(factors=path*\"annotations/confounding_factors_orthologs.txt\",annotation=path*\"annotations/ensembl_gene_coords_v109.bed\")"
   ]
  },
  {
   "cell_type": "code",
   "execution_count": null,
   "metadata": {
    "tags": []
   },
   "outputs": [],
   "source": [
    "for f ∈ activation_files\n",
    "    @show f\n",
    "    \n",
    "    f_path,f_de = splitdir(f)\n",
    "    f_de = split(f_de,\".\")[1]\n",
    "    \n",
    "    # Extracting the top 500 DE genes by cell line.\n",
    "    df = CSV.read(f,DataFrame,header=false)\n",
    "\n",
    "    # Get orthologs only\n",
    "    rename!(df,:Column1=>:ids)\n",
    "    df_orthologs = innerjoin(df,orthologs,on=:ids,order=:left)\n",
    "    \n",
    "    top_de = first(df_orthologs,500)        \n",
    "        \n",
    "    tmp_path = f_path * \"/top_500_orthologs/\"\n",
    "    mkpath(tmp_path)\n",
    "        \n",
    "    CSV.write(tmp_path * f_de * \".txt\",Tables.table(top_de[:,1]),header=false)\n",
    "\n",
    "    param_boot.data   = tmp_path * f_de * \".txt\"\n",
    "    param_boot.output = tmp_path * f_de\n",
    "    MKtest.bootstrap(param_boot)\n",
    "\n",
    "end"
   ]
  },
  {
   "cell_type": "markdown",
   "metadata": {
    "tags": []
   },
   "source": [
    "## ABC-MK"
   ]
  },
  {
   "cell_type": "code",
   "execution_count": null,
   "metadata": {
    "tags": []
   },
   "outputs": [],
   "source": [
    "adap = MKtest.parameters(n=661,dac=[2,4,5,10,20,50,200,661],cutoff=[0.0,0.7]);\n",
    "\n",
    "# Dictionaries to save results by cell lineage\n",
    "results_abc    = Dict{String,DataFrame}()\n",
    "\n",
    "activation_files = filter(x -> occursin(\"_case.txt\",x) || occursin(\"_control.txt\",x),readdir(labstorage * \"Macrophages/Output_lists/pval5x10-2_sorted/top_500_orthologs\",join=true));\n",
    "\n",
    "for i in activation_files\n",
    "    abcmk      = cell_analysis(adap,file=i,data_tgp=labstorage*\"annotations/MKdata_may2023.txt\",rates=labstorage*\"rates_hpc.jld2\")\n",
    "    \n",
    "    k = split(split(i,\"/\")[end],\".\")[1]\n",
    "    n = ifelse(occursin(\"case\",i),countlines(i),0)\n",
    "    insertcols!(abcmk,:n=>n)\n",
    "    results_abc[k]    = abcmk \n",
    "end"
   ]
  },
  {
   "cell_type": "code",
   "execution_count": null,
   "metadata": {},
   "outputs": [],
   "source": [
    "# Save dict results\n",
    "JLD2.jldopen(path * \"results/results_immune_abc.jld2\", \"a+\") do file\n",
    "    file[\"macrophages_activation\"] = results_abc\n",
    "end"
   ]
  },
  {
   "cell_type": "code",
   "execution_count": null,
   "metadata": {},
   "outputs": [],
   "source": [
    "# Dictionaries to save results by cell lineage\n",
    "results_ci = DataFrame[]\n",
    "activation_files = filter(x -> isdir(x) && occursin(\"_case\",x) ,readdir(labstorage * \"Macrophages/Output_lists/pval5x10-2_sorted/top_500_orthologs\",join=true))  .* \"/out_1.0.post.gz\";\n",
    "\n",
    "posteriors = CSV.read.(activation_files,DataFrame,header=false)\n",
    "\n",
    "for i in eachindex(activation_files)\n",
    "    cell_name, line_name = split(activation_files[i],\"/\")[[end-1,end-3]]\n",
    "    cell_name = replace(cell_name,\"_case\"=>\"\")\n",
    "    tmp = MKtest.summary_abc([posteriors[i]],stat=\"mode\")\n",
    "    insertcols!(tmp[2],1,:cell=>cell_name)\n",
    "    insertcols!(tmp[2],1,:line=>line_name) \n",
    "    push!(results_ci,tmp[2])\n",
    "\n",
    "end\n",
    "\n",
    "results_ci = vcat(results_ci...)\n",
    "\n",
    "@rput results_ci\n",
    "\n",
    "R\"\"\"\n",
    "results_ci = results_ci %>% separate(cell, sep = \"_\", into = c(\"cell\", \"time\")) %>% select(-c(line)) %>% as.data.table\n",
    "\"\"\"\n",
    "\n",
    "@rget results_ci\n",
    "CSV.write(path * \"Macrophages/abcmk_ci.txt\",results_ci)"
   ]
  }
 ],
 "metadata": {
  "kernelspec": {
   "display_name": "Julia 1.9.3",
   "language": "julia",
   "name": "julia-1.9"
  },
  "language_info": {
   "file_extension": ".jl",
   "mimetype": "application/julia",
   "name": "julia",
   "version": "1.9.3"
  }
 },
 "nbformat": 4,
 "nbformat_minor": 4
}
